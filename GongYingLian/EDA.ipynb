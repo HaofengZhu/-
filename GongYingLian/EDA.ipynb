{
 "cells": [
  {
   "cell_type": "code",
   "execution_count": 2,
   "metadata": {},
   "outputs": [
    {
     "data": {
      "text/plain": [
       "<pandas.core.config.option_context at 0x2e5140281d0>"
      ]
     },
     "execution_count": 2,
     "metadata": {},
     "output_type": "execute_result"
    }
   ],
   "source": [
    "import time\n",
    "import datetime\n",
    "import numpy as np\n",
    "import pandas as pd\n",
    "import seaborn as sns\n",
    "from collections import defaultdict\n",
    "import matplotlib.pyplot as plt\n",
    "pd.option_context('display.float_format', lambda x: '%.3f' % x)"
   ]
  },
  {
   "cell_type": "code",
   "execution_count": 3,
   "metadata": {},
   "outputs": [
    {
     "name": "stdout",
     "output_type": "stream",
     "text": [
      "   data_date goods_id    sku_id  goods_num  goods_price  orginal_shop_price\n0   20171226   G3pVuZ  SK013PAq          1         6.99                6.99\n1   20180218   G3pVuZ  SK013PAq          1         2.99                6.99\n2   20180311   G3pVuZ  SK013PAq          1         1.99                6.99\n3   20180314   G3pVuZ  SK013PAq          1         1.99                6.99\n4   20170516   GhbasQ  SK013i5Y          1         9.99               11.99\n"
     ]
    }
   ],
   "source": [
    "train = pd.read_csv(\"E:/DataMinig/GongYingLian/goodsaleSort.csv\")\n",
    "print(train.head())"
   ]
  },
  {
   "cell_type": "code",
   "execution_count": 24,
   "metadata": {},
   "outputs": [
    {
     "name": "stdout",
     "output_type": "stream",
     "text": [
      "          data_date     goods_num   goods_price  orginal_shop_price  \\\ncount  3.971517e+06  3.971517e+06  3.971517e+06        3.971517e+06   \nmean   2.017319e+07  2.919166e+00  1.068411e+01        1.732017e+01   \nstd    4.036752e+03  6.886803e+00  8.824719e+00        1.285500e+01   \nmin    2.017030e+07  1.000000e+00  0.000000e+00        0.000000e+00   \n25%    2.017073e+07  1.000000e+00  5.000000e+00        8.990000e+00   \n50%    2.017110e+07  1.000000e+00  8.990000e+00        1.499000e+01   \n75%    2.017123e+07  3.000000e+00  1.399000e+01        2.299000e+01   \nmax    2.018032e+07  2.157000e+03  1.332000e+03        1.332000e+03   \n\n               year         month           day          week         index  \ncount  3.971517e+06  3.971517e+06  3.971517e+06  3.971517e+06  3.971517e+06  \nmean   2.017248e+03  6.933038e+00  1.583044e+01  2.826000e+01  4.115372e+01  \nstd    4.318263e-01  3.778243e+00  8.550883e+00  1.654196e+01  1.462260e+01  \nmin    2.017000e+03  1.000000e+00  1.000000e+00  1.000000e+00  9.000000e+00  \n25%    2.017000e+03  3.000000e+00  9.000000e+00  1.100000e+01  3.000000e+01  \n50%    2.017000e+03  7.000000e+00  1.600000e+01  3.000000e+01  4.400000e+01  \n75%    2.017000e+03  1.100000e+01  2.300000e+01  4.400000e+01  5.200000e+01  \nmax    2.018000e+03  1.200000e+01  3.100000e+01  5.200000e+01  6.300000e+01  \n"
     ]
    }
   ],
   "source": [
    "print(train.describe())"
   ]
  },
  {
   "cell_type": "code",
   "execution_count": 6,
   "metadata": {},
   "outputs": [
    {
     "data": {
      "text/plain": [
       "(3971517, 6)"
      ]
     },
     "execution_count": 6,
     "metadata": {},
     "output_type": "execute_result"
    }
   ],
   "source": [
    "train.shape"
   ]
  },
  {
   "cell_type": "code",
   "execution_count": 7,
   "metadata": {},
   "outputs": [
    {
     "name": "stdout",
     "output_type": "stream",
     "text": [
      "data_date\ngoods_id\nsku_id\ngoods_num\ngoods_price\norginal_shop_price\n"
     ]
    }
   ],
   "source": [
    "for col in train.columns:\n",
    "    print(col)"
   ]
  },
  {
   "cell_type": "code",
   "execution_count": 8,
   "metadata": {},
   "outputs": [],
   "source": [
    "def trans_date(x):\n",
    "    str_x = str(x)\n",
    "    year = int(str_x[:4])\n",
    "    month = int(str_x[4:6])\n",
    "    day = int(str_x[6:])\n",
    "    return datetime.date(year, month, day)\n"
   ]
  },
  {
   "cell_type": "code",
   "execution_count": 9,
   "metadata": {},
   "outputs": [],
   "source": [
    "def get_week(x):\n",
    "    week = int(x.strftime(\"%W\"))\n",
    "    return week"
   ]
  },
  {
   "cell_type": "code",
   "execution_count": 10,
   "metadata": {},
   "outputs": [],
   "source": [
    "train['data_date_'] = train['data_date'].apply(trans_date)\n"
   ]
  },
  {
   "cell_type": "code",
   "execution_count": 11,
   "metadata": {},
   "outputs": [],
   "source": [
    "train['year'] = train['data_date_'].apply(lambda x: x.year)\n",
    "train['month'] = train['data_date_'].apply(lambda x: x.month)\n",
    "train['day'] = train['data_date_'].apply(lambda x: x.day)\n",
    "train['week'] = train['data_date_'].apply(get_week)\n",
    "train['index'] = (train['year']-2017) * 52 + train['week']\n"
   ]
  },
  {
   "cell_type": "code",
   "execution_count": 25,
   "metadata": {},
   "outputs": [
    {
     "name": "stdout",
     "output_type": "stream",
     "text": [
      "   data_date goods_id    sku_id  goods_num  goods_price  orginal_shop_price  \\\n0   20171226   G3pVuZ  SK013PAq          1         6.99                6.99   \n1   20180218   G3pVuZ  SK013PAq          1         2.99                6.99   \n2   20180311   G3pVuZ  SK013PAq          1         1.99                6.99   \n3   20180314   G3pVuZ  SK013PAq          1         1.99                6.99   \n4   20170516   GhbasQ  SK013i5Y          1         9.99               11.99   \n\n   data_date_  year  month  day  week  index  \n0  2017-12-26  2017     12   26    52     52  \n1  2018-02-18  2018      2   18     7     59  \n2  2018-03-11  2018      3   11    10     62  \n3  2018-03-14  2018      3   14    11     63  \n4  2017-05-16  2017      5   16    20     20  \n"
     ]
    }
   ],
   "source": [
    "print(train.head())\n"
   ]
  },
  {
   "cell_type": "code",
   "execution_count": 14,
   "metadata": {},
   "outputs": [],
   "source": [
    "train_class = train[(train['index'] > 0) & (train['index'] < 63)].groupby(['sku_id', 'index'])['goods_num'].sum().\\\n",
    "    to_frame().reset_index()\n"
   ]
  },
  {
   "cell_type": "code",
   "execution_count": 16,
   "metadata": {},
   "outputs": [
    {
     "name": "stdout",
     "output_type": "stream",
     "text": [
      "           sku_id  index  goods_num\n2        SK013PAq     62          1\n15       SK013i5Y     62          1\n38       SK014m67     62          3\n49       SK019vAh     62          1\n81       SK01GLtA     62          2\n90       SK01JRhK     62          1\n115      SK01K9xd     62          1\n118      SK01LD7g     62          2\n160      SK01LkA7     62          4\n185      SK01QKFc     62          9\n228      SK01QxDV     62          2\n289      SK01RvqA     62          2\n301      SK01RzVS     62          1\n331      SK01YK8n     62          2\n345      SK01aOV9     62          1\n373      SK01hQVy     62          1\n380      SK01kiNH     62          1\n384      SK01lsLD     62          1\n395      SK01m3Pi     62          1\n410      SK01mAJ2     62          1\n429      SK01p2ut     62          3\n467      SK01qzyP     62          2\n472      SK01r4Ih     62          1\n489      SK01rBpU     62          1\n491      SK01yrfT     62          1\n510      SK02BVlK     62          3\n520      SK02BcP5     62          1\n557      SK02FA8W     62          1\n560      SK02IGp6     62          2\n565      SK02J7fo     62          1\n...           ...    ...        ...\n1418465  SKzwbI4O     62          7\n1418467  SKzwbug6     62          1\n1418470  SKzwdacK     62          1\n1418516  SKzwdqh8     62          4\n1418546  SKzwfWvD     62          9\n1418599  SKzwl4gU     62          3\n1418691  SKzx5k4e     62          2\n1418709  SKzx6793     62          4\n1418716  SKzxC4g2     62          1\n1418718  SKzxCSvG     62          1\n1418752  SKzxQDin     62          1\n1418792  SKzxUweo     62          1\n1418804  SKzxZmgl     62          1\n1418817  SKzxjLcq     62          3\n1418871  SKzxoEGe     62          1\n1418931  SKzxotyi     62         13\n1418932  SKzxtHfI     62          1\n1418966  SKzxvCai     62          4\n1418967  SKzy0VHL     62          1\n1418972  SKzy2YiU     62          1\n1419027  SKzy7p0x     62          2\n1419056  SKzyAFVS     62          3\n1419086  SKzyAjbt     62          2\n1419088  SKzyBTIN     62          2\n1419159  SKzyJd5n     62          2\n1419236  SKzyO5xZ     62         19\n1419269  SKzygx3Y     62          1\n1419289  SKzyn524     62          5\n1419290  SKzynqQU     62          1\n1419347  SKzytIej     62          2\n\n[58188 rows x 3 columns]\n"
     ]
    }
   ],
   "source": [
    "print(train_class[train_class['index'] == 62])"
   ]
  },
  {
   "cell_type": "code",
   "execution_count": 17,
   "metadata": {},
   "outputs": [],
   "source": [
    "def plt_class(data,x_col,y_col,class_name):\n",
    "    data_name = data[data.sku_id == class_name]\n",
    "    plt.scatter(x = data_name[x_col], y = data_name[y_col])"
   ]
  },
  {
   "cell_type": "code",
   "execution_count": 18,
   "metadata": {
    "collapsed": false
   },
   "outputs": [
    {
     "data": {
      "image/png": "[encoded data removed]",
      "text/plain": [
       "<Figure size 432x288 with 1 Axes>"
      ]
     },
     "metadata": {},
     "output_type": "display_data"
    }
   ],
   "source": [
    "plt_class(train_class[train_class['index'] > 52], 'index', 'goods_num', 'SKEhL1pZ')"
   ]
  },
  {
   "cell_type": "code",
   "execution_count": 19,
   "metadata": {},
   "outputs": [
    {
     "name": "stdout",
     "output_type": "stream",
     "text": [
      "Empty DataFrame\nColumns: [sku_id, index, goods_num]\nIndex: []\n"
     ]
    }
   ],
   "source": [
    "print(train_class[train_class['index'] == 0])"
   ]
  },
  {
   "cell_type": "code",
   "execution_count": 20,
   "metadata": {},
   "outputs": [],
   "source": [
    "def plt_sales(data,x_col,y_col):\n",
    "    plt.scatter(x=data[x_col], y=data[y_col], norm=1)\n"
   ]
  },
  {
   "cell_type": "code",
   "execution_count": 27,
   "metadata": {},
   "outputs": [
    {
     "data": {
      "image/png": "[encoded data removed]",
      "text/plain": [
       "<Figure size 432x288 with 1 Axes>"
      ]
     },
     "metadata": {},
     "output_type": "display_data"
    }
   ],
   "source": [
    "plt_sales(train_class[train_class['index']>52].groupby('index')['goods_num'].sum().to_frame().reset_index()\n",
    "          , 'index', 'goods_num')"
   ]
  },
  {
   "cell_type": "code",
   "execution_count": 22,
   "metadata": {},
   "outputs": [
    {
     "name": "stderr",
     "output_type": "stream",
     "text": [
      "E:\\DataMinig\\DataMining\\venv\\lib\\site-packages\\scipy\\stats\\stats.py:1713: FutureWarning: Using a non-tuple sequence for multidimensional indexing is deprecated; use `arr[tuple(seq)]` instead of `arr[seq]`. In the future this will be interpreted as an array index, `arr[np.array(seq)]`, which will result either in an error or a different result.\n  return np.add.reduce(sorted[indexer] * weights, axis=axis) / sumval\n"
     ]
    },
    {
     "data": {
      "text/plain": [
       "<matplotlib.axes._subplots.AxesSubplot at 0x2e5145a09e8>"
      ]
     },
     "execution_count": 22,
     "metadata": {},
     "output_type": "execute_result"
    },
    {
     "data": {
      "image/png": "[encoded data removed]",
      "text/plain": [
       "<Figure size 432x288 with 1 Axes>"
      ]
     },
     "metadata": {},
     "output_type": "display_data"
    }
   ],
   "source": [
    "sns.distplot(train_class[train_class['index'] == 61]['goods_num'])"
   ]
  },
  {
   "cell_type": "code",
   "execution_count": 23,
   "metadata": {},
   "outputs": [
    {
     "data": {
      "text/plain": [
       "<matplotlib.axes._subplots.AxesSubplot at 0x2e514751ef0>"
      ]
     },
     "execution_count": 23,
     "metadata": {},
     "output_type": "execute_result"
    },
    {
     "data": {
      "image/png": "[encoded data removed]",
      "text/plain": [
       "<Figure size 432x288 with 1 Axes>"
      ]
     },
     "metadata": {},
     "output_type": "display_data"
    }
   ],
   "source": [
    "sns.boxplot(train_class[train_class['index'] == 62]['goods_num'],orient='ver')"
   ]
  },
  {
   "cell_type": "code",
   "execution_count": null,
   "metadata": {},
   "outputs": [],
   "source": []
  }
 ],
 "metadata": {
  "kernelspec": {
   "display_name": "Python 2",
   "language": "python",
   "name": "python2"
  },
  "language_info": {
   "codemirror_mode": {
    "name": "ipython",
    "version": 2
   },
   "file_extension": ".py",
   "mimetype": "text/x-python",
   "name": "python",
   "nbconvert_exporter": "python",
   "pygments_lexer": "ipython2",
   "version": "2.7.6"
  }
 },
 "nbformat": 4,
 "nbformat_minor": 0
}
